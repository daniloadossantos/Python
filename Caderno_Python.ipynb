{
 "nbformat": 4,
 "nbformat_minor": 0,
 "metadata": {
  "colab": {
   "provenance": [],
   "toc_visible": true,
   "authorship_tag": "ABX9TyOYjh9S9In5NNsuSN/r/jP3"
  },
  "kernelspec": {
   "name": "python3",
   "display_name": "Python 3"
  },
  "language_info": {
   "name": "python"
  }
 },
 "cells": [
  {
   "cell_type": "markdown",
   "source": [
    "# Utilizando MÓDULOS"
   ],
   "metadata": {
    "id": "Pn8sLkSgyTLG"
   }
  },
  {
   "cell_type": "markdown",
   "source": [
    "* import `bebida`\n",
    "        **nesse caso, eu importo todo o módulo e funcionalidades de \"bebida\" (generalista)\n",
    "* from `doce` import `pudim`\n",
    "        **nesse exemplo, somente importarei \"pudim\" do módulo \"doce\" (específico)\n",
    "\n",
    "A importação Específica pode economizar memória.\n",
    "\n",
    "* import `math` - biblioteca com diversas funcionalidades de matemática\n",
    "    * `ceil` - arredondamento para cima\n",
    "    * `floor` - arredondamento para baixo\n",
    "    * `trunc` - ignora a virgula e arredonda\n",
    "    * `pow` - potência (similar ao **)\n",
    "    * `sqrt` - raiz quadrada\n",
    "    * `factorial` - fatorial"
   ],
   "metadata": {
    "id": "pafN7Yx0zEtg"
   }
  },
  {
   "cell_type": "code",
   "execution_count": 6,
   "outputs": [
    {
     "name": "stdout",
     "output_type": "stream",
     "text": [
      "A raiz de 29 é igual a 5.39\n"
     ]
    }
   ],
   "source": [
    "import math\n",
    "num = int(input(\"Digite um número: \"))\n",
    "raiz = math.sqrt(num)\n",
    "print(\"A raiz de {} é igual a {:.2f}\" .format(num, raiz))"
   ],
   "metadata": {
    "collapsed": false
   }
  },
  {
   "cell_type": "code",
   "execution_count": 7,
   "outputs": [
    {
     "name": "stdout",
     "output_type": "stream",
     "text": [
      "A raiz de 29 é igual a 5\n"
     ]
    }
   ],
   "source": [
    "#para arredondar\n",
    "import math\n",
    "num = int(input(\"Digite um número: \"))\n",
    "raiz = math.sqrt(num)\n",
    "print(\"A raiz de {} é igual a {}\" .format(num, math.floor(raiz)))"
   ],
   "metadata": {
    "collapsed": false
   }
  },
  {
   "cell_type": "code",
   "execution_count": 9,
   "outputs": [
    {
     "name": "stdout",
     "output_type": "stream",
     "text": [
      "A raiz de 29 é igual a 5.385\n"
     ]
    }
   ],
   "source": [
    "#para extrair uma função especifica da biblioteca\n",
    "from math import sqrt\n",
    "num = int(input(\"Digite um número: \"))\n",
    "raiz = sqrt(num) #nesse caso, não preciso usar math.sqrt, já que a IDE puxa direto\n",
    "print(\"A raiz de {} é igual a {:.3f}\" .format(num, raiz))"
   ],
   "metadata": {
    "collapsed": false
   }
  },
  {
   "cell_type": "code",
   "execution_count": 3,
   "outputs": [
    {
     "name": "stdout",
     "output_type": "stream",
     "text": [
      "0.12728376039446065\n",
      "5\n"
     ]
    }
   ],
   "source": [
    "import random\n",
    "num = random.random() #float entre 0 e 1\n",
    "print(num)\n",
    "num = random.randint(1,10) #numero inteiro entre 1 e 10\n",
    "print(num)"
   ],
   "metadata": {
    "collapsed": false
   }
  },
  {
   "cell_type": "markdown",
   "source": [
    "# FATIAMENTO - Manipulando Textos"
   ],
   "metadata": {
    "collapsed": false
   }
  },
  {
   "cell_type": "markdown",
   "source": [
    "## Indice\n",
    "\n",
    "* python diferencia maiúsculas e minúsculas\n",
    "* Notação: variavel[indice]\n",
    "    * Exemplo: `frase[9]`\n",
    "                `frase[9:13]` => ele fatia do indice 9 até o 12 (exclui o 13)\n",
    "                `frase[9:21:2]` => do indice 9 até 21 (excluindo 21) pulando de 2 em 2\n",
    "                `frase[:5]` => começa antes dos : e termina até o indice 4\n",
    "                `frase[5:]`=> imprime a partir do indice 5\n",
    "                `frase[5::2]` => começa do indice 5 e vai até o final (::), mas pulando de 2 em 2"
   ],
   "metadata": {
    "collapsed": false
   }
  },
  {
   "cell_type": "code",
   "execution_count": 58,
   "outputs": [
    {
     "name": "stdout",
     "output_type": "stream",
     "text": [
      "video\n",
      "Cur\n",
      " em video\n",
      "roe ie\n"
     ]
    }
   ],
   "source": [
    "frase = 'Curso em video'\n",
    "print(frase [9:18])\n",
    "print(frase [:3])\n",
    "print(frase [5:])\n",
    "print(frase [2::2])"
   ],
   "metadata": {
    "collapsed": false
   }
  },
  {
   "cell_type": "markdown",
   "source": [
    "* .len()\n",
    "    * len(variavel)\n",
    "    * indica o tamanho da string\n",
    "\n",
    "* .count\n",
    "    * Notação: variavel.count\n",
    "    * indica a quantidade de vezes que determina string aparece na variável\n",
    "\n",
    "* .count('string', numero, numero)\n",
    "    * essa é uma contagem de string com fatiamento\n"
   ],
   "metadata": {
    "collapsed": false
   }
  },
  {
   "cell_type": "code",
   "execution_count": 54,
   "outputs": [
    {
     "name": "stdout",
     "output_type": "stream",
     "text": [
      "21\n",
      "3\n",
      "2\n"
     ]
    }
   ],
   "source": [
    "frase = 'Curso em vídeo python'\n",
    "print(len(frase))\n",
    "print(frase.count('o'))\n",
    "print(frase.count('o',0,14))"
   ],
   "metadata": {
    "collapsed": false
   }
  },
  {
   "cell_type": "markdown",
   "source": [
    "* .find\n",
    "    * procura determinada string e indica o indice\n",
    "    * se não encontrar, a resposta será -1\n",
    "\n",
    "\n",
    "* operador \"in\"\n",
    "    * indica se existe determinada string dentro da variável\n",
    "    * é booleano (True ou False)"
   ],
   "metadata": {
    "collapsed": false
   }
  },
  {
   "cell_type": "code",
   "execution_count": 63,
   "outputs": [
    {
     "name": "stdout",
     "output_type": "stream",
     "text": [
      "11\n",
      "-1\n",
      "True\n"
     ]
    }
   ],
   "source": [
    "frase = \"Curso em vídeo Python\"\n",
    "print(frase.find('deo'))\n",
    "print(frase.find('Android'))\n",
    "print(\"Curso\" in frase)"
   ],
   "metadata": {
    "collapsed": false
   }
  },
  {
   "cell_type": "markdown",
   "source": [
    "## Transformação\n",
    "    * é possível mudar através de métodos\n",
    "        * .replace()\n",
    "           * frase.replace('Python', 'Android')\n",
    "        * .upper() / .lower()\n",
    "           * caixa alta ou caixa baixa\n",
    "        * .strip()\n",
    "           * remove todos os espaços inuteis da string (não remove os espaços do meio)\n",
    "        * .rstrig() / .lstrip()\n",
    "           * o lado direito em branco é removido\n",
    "           * o lado esquerdo em branco é removido\n",
    "        * capitalize()\n",
    "        * title()\n",
    "\n",
    "\n",
    "## Divisão\n",
    "    * .split()\n",
    "        * divide a string\n",
    "        * por PADRÃO, ele divide nos espaços e cria uma \"divisão\" e insere numa lista"
   ],
   "metadata": {
    "collapsed": false
   }
  },
  {
   "cell_type": "code",
   "execution_count": 60,
   "outputs": [
    {
     "name": "stdout",
     "output_type": "stream",
     "text": [
      "curso em video Python\n",
      "['curso', 'em', 'video', 'Python']\n"
     ]
    }
   ],
   "source": [
    "frase = \"      curso em video Python\"\n",
    "print(frase.strip())\n",
    "print(frase.split())"
   ],
   "metadata": {
    "collapsed": false
   }
  },
  {
   "cell_type": "markdown",
   "source": [],
   "metadata": {
    "collapsed": false
   }
  },
  {
   "cell_type": "markdown",
   "source": [
    "## Junção\n",
    "    * 'string' .join(variável)\n",
    "        * ele junta nomes separados em lista"
   ],
   "metadata": {
    "collapsed": false
   }
  },
  {
   "cell_type": "code",
   "execution_count": 52,
   "outputs": [
    {
     "data": {
      "text/plain": "'curso-em-video-python'"
     },
     "execution_count": 52,
     "metadata": {},
     "output_type": "execute_result"
    }
   ],
   "source": [
    "frase=['curso','em','video','python']\n",
    "\"-\".join(frase)"
   ],
   "metadata": {
    "collapsed": false
   }
  },
  {
   "cell_type": "markdown",
   "source": [
    "# CONDIÇÕES (IF ELSE)\n",
    "\n",
    "## Notação\n",
    "* if (condição):\n",
    "    <instrução>\n",
    "  else (condição):\n",
    "    <instrução>"
   ],
   "metadata": {
    "collapsed": false
   }
  },
  {
   "cell_type": "code",
   "execution_count": 66,
   "outputs": [
    {
     "name": "stdout",
     "output_type": "stream",
     "text": [
      "Carro com 6 anos de vida.\n",
      "Carro Velho.\n",
      "FIM\n"
     ]
    }
   ],
   "source": [
    "tempo = int(input(\"Quantos anos tem seu carro?\"))\n",
    "print(\"Carro com {} anos de vida.\" .format(tempo))\n",
    "if tempo <=3:\n",
    "    print(\"Carro Novo.\")\n",
    "else:\n",
    "    print(\"Carro Velho.\")\n",
    "print(\"FIM\")"
   ],
   "metadata": {
    "collapsed": false
   }
  },
  {
   "cell_type": "code",
   "execution_count": 2,
   "outputs": [
    {
     "name": "stdout",
     "output_type": "stream",
     "text": [
      "A sua média foi 4.8\n",
      "Sua média foi ruim. Estude mais!\n"
     ]
    }
   ],
   "source": [
    "n1 = float(input(\"Digite a primeira nota: \"))\n",
    "n2 = float(input(\"Digite a segunda nota: \"))\n",
    "m = (n1+n2)/2\n",
    "print(\"A sua média foi {:.1f}\".format(m))\n",
    "if m >=6.0:\n",
    "    print(\"Sua média foi boa! PARABENS\")\n",
    "else:\n",
    "    print('Sua média foi ruim. Estude mais!')"
   ],
   "metadata": {
    "collapsed": false
   }
  },
  {
   "cell_type": "markdown",
   "source": [
    "# Cores no Terminal\n",
    "\n",
    "Começa sempre com \\ (contra barra).\n",
    "É o Código ANSI (\\).\n",
    "\n",
    "Exemplo:\n",
    "    \\033\\[ (código style) ; (código text) ; (código background) m\n",
    "    \"\\033[0;33;44m\"\n",
    "    Pode ser em qualquer ordem.\n",
    "\n",
    "## Style\n",
    "\n",
    "* 0 = none\n",
    "* 1 = bold\n",
    "* 4 = sublinhado\n",
    "* 7 = inverter (negative)\n",
    "\n",
    "\n",
    "## Text\n",
    "\n",
    "* 30 = branco\n",
    "* 31 = vermelho\n",
    "* 32 = verde\n",
    "* 33 = amarelo\n",
    "* 34 = azul\n",
    "* 35 = roxo\n",
    "* 36 = azul claro (magenta)\n",
    "* 37 = cinza\n",
    "\n",
    "\n",
    "## Background\n",
    "\n",
    "* 40 = branco\n",
    "* 41 = vermelho\n",
    "* 42 = verde\n",
    "* 43 = amarelo\n",
    "* 44 = azul\n",
    "* 45 = roxo\n",
    "* 46 = azul claro (magenta)\n",
    "* 47 = cinza\n"
   ],
   "metadata": {
    "collapsed": false
   }
  },
  {
   "cell_type": "code",
   "execution_count": 26,
   "outputs": [
    {
     "name": "stdout",
     "output_type": "stream",
     "text": [
      "\u001B[4;30;45mOlá, mundo!\u001B[m\n",
      "Os valores são \u001B[32m3 \u001B[4;35m6\n",
      "Os valores são \u001B[7;30m3 e 6\u001B[0;33m\n"
     ]
    }
   ],
   "source": [
    "print('\\033[4;30;45mOlá, mundo!\\033[m')\n",
    "a=3\n",
    "b=6\n",
    "print('Os valores são \\033[32m{} \\033[4;35m{}'.format(a,b))\n",
    "print('Os valores são {}{} e {}{}'.format( '\\033[7;30m', a, b , '\\033[0;33m'))"
   ],
   "metadata": {
    "collapsed": false
   }
  },
  {
   "cell_type": "markdown",
   "source": [
    "# Estrturas de Controle\n",
    "\n",
    "## Condições Aninhadas (if / else / elif)\n",
    "\n",
    "Condições aninhadas são estruturas que estão dentro de condições (por isso o nome \"aninhado\").\n",
    "\n",
    "    if <condição>:\n",
    "        <instrução>\n",
    "    elif <condição>:\n",
    "        <instrução>\n",
    "    else: //é opcional//\n",
    "        <instrução>\n",
    "\n"
   ],
   "metadata": {
    "collapsed": false
   }
  },
  {
   "cell_type": "code",
   "execution_count": 16,
   "outputs": [
    {
     "name": "stdout",
     "output_type": "stream",
     "text": [
      "Belo nome feminino, Ana.\n"
     ]
    }
   ],
   "source": [
    "nome = input(\"Qual seu nome?\")\n",
    "if nome == 'Danilo':\n",
    "    print(\"Que nome bonito!\")\n",
    "elif nome == \"Pedro\" or nome == \"Maria\" or nome == \"Paulo\":\n",
    "    print(\"Olá, {}. Seu nome é bem popular no Brasil.\" .format(nome))\n",
    "elif nome in 'Ana Carolina Jéssica Juliana':\n",
    "    print(\"Belo nome feminino, {}.\" .format(nome))\n",
    "else:\n",
    "    print(\"Tenha um bom dia, {}!\" .format(nome))"
   ],
   "metadata": {
    "collapsed": false
   }
  },
  {
   "cell_type": "markdown",
   "source": [
    "# Estrutura Laço de Repetição (FOR)\n",
    "\n",
    "for <CONT> in range (inicio, limite, incremento):\n",
    "    <CONT> => é o contador\n",
    "    \"inicio\" => de onde inicia o laço\n",
    "    \"limite\" => onde vai parar\n",
    "    \"incremento\" => o valor que será adicionado\n",
    "\n",
    "##Estrutura\n",
    "\n",
    "laço C no intervalo(1,10):\n",
    "****passo\n",
    "pega\n",
    "\n",
    "        *C - contador\n",
    "        *(1,10) - de 1 a 10\n",
    "        *comando PEGA está fora do laço, portanto, será executado quando o laço chegar ao fim\n",
    "\n",
    "**NÃO esquecer os dois pontos (:)"
   ],
   "metadata": {
    "collapsed": false
   }
  },
  {
   "cell_type": "code",
   "execution_count": 11,
   "outputs": [
    {
     "name": "stdout",
     "output_type": "stream",
     "text": [
      "1\n",
      "2\n",
      "3\n",
      "4\n",
      "5\n",
      "6\n",
      "FIM\n"
     ]
    }
   ],
   "source": [
    "for x in range (1,7):\n",
    "    print(x)\n",
    "print('FIM')"
   ],
   "metadata": {
    "collapsed": false
   }
  },
  {
   "cell_type": "markdown",
   "source": [
    "# Estrutura WHILE\n",
    "\n",
    "* Ideal para quando não soubermos o LIMITE da repetição\n",
    "* No FOR, geralmente, sabemos o limite\n",
    "* No WHILE não sabemos exatamente os passos para chegar ao fim do laço"
   ],
   "metadata": {
    "collapsed": false
   }
  },
  {
   "cell_type": "code",
   "execution_count": 16,
   "outputs": [
    {
     "name": "stdout",
     "output_type": "stream",
     "text": [
      "Você digitou 1 números pares e 0 números impares.\n"
     ]
    }
   ],
   "source": [
    "n = 1\n",
    "par = impar = 0\n",
    "while n!=0:\n",
    "    n = int(input('Digite um valor: '))\n",
    "    if n % 2 == 0:\n",
    "        par+=1\n",
    "    else:\n",
    "        impar +=1\n",
    "print('Você digitou {} números pares e {} números impares.'.format(par,impar))"
   ],
   "metadata": {
    "collapsed": false
   }
  },
  {
   "cell_type": "markdown",
   "source": [
    "## Interrompendo estrutura WHILE\n",
    "\n",
    "* \"break\" é o comando para desviar e parar o loop, jogando a sequencia para fora do laço"
   ],
   "metadata": {
    "collapsed": false
   }
  },
  {
   "cell_type": "code",
   "execution_count": 18,
   "outputs": [
    {
     "name": "stdout",
     "output_type": "stream",
     "text": [
      "A soma é 10\n"
     ]
    }
   ],
   "source": [
    "n = s = 0\n",
    "while True:\n",
    "    n = int(input('Digite um número: '))\n",
    "    if n == 999:\n",
    "        break\n",
    "    s+=n\n",
    "#print('A soma é {}'.format(s))\n",
    "print(f'A soma é {s}')"
   ],
   "metadata": {
    "collapsed": false
   }
  },
  {
   "cell_type": "code",
   "execution_count": 20,
   "outputs": [
    {
     "name": "stdout",
     "output_type": "stream",
     "text": [
      "O José tem 33 anos e tem salario de R$ 987.30.\n"
     ]
    }
   ],
   "source": [
    "nome = 'José'\n",
    "idade = 33\n",
    "salario = 987.3\n",
    "print(f'O {nome} tem {idade} anos e tem salario de R$ {salario:.2f}.')"
   ],
   "metadata": {
    "collapsed": false
   }
  },
  {
   "cell_type": "markdown",
   "source": [
    "# TUPLAS\n",
    "\n",
    "* Notação: ()\n",
    "* São variáveis compostas\n",
    "* Dentro de tuplas podemos usar:\n",
    "    * fatiamento\n",
    "    * comprimento (len)\n",
    "    * estrutura de repetição (for/while)\n",
    "\n",
    "* As tuplas são IMUTÁVEIS. Diferentemente das listas, as tuplas não podem ser alteradas.\n",
    "    * para alterar uma tupla, temos que reescreve-la no programa\n",
    "    * a execução do programa não alterará a tupla"
   ],
   "metadata": {
    "collapsed": false
   }
  },
  {
   "cell_type": "code",
   "execution_count": 11,
   "outputs": [
    {
     "name": "stdout",
     "output_type": "stream",
     "text": [
      "('Hamburguer', 'Suco', 'Pizza', 'Pudim')\n",
      "Suco\n",
      "('Suco', 'Pizza', 'Pudim')\n",
      "Pizza\n",
      "('Suco', 'Pizza')\n"
     ]
    }
   ],
   "source": [
    "lanche = ('Hamburguer', 'Suco','Pizza', 'Pudim')\n",
    "print(lanche)\n",
    "print(lanche[1])\n",
    "print(lanche[1:])\n",
    "print(lanche[-2])\n",
    "print(lanche[1:3])\n",
    "print(lanche)"
   ],
   "metadata": {
    "collapsed": false
   }
  },
  {
   "cell_type": "markdown",
   "source": [
    "*Sempre é importante lembrar que Tuplas são IMUTÁVEIS. Vejamos abaixo:"
   ],
   "metadata": {
    "collapsed": false
   }
  },
  {
   "cell_type": "code",
   "execution_count": 2,
   "outputs": [
    {
     "ename": "TypeError",
     "evalue": "'tuple' object does not support item assignment",
     "output_type": "error",
     "traceback": [
      "\u001B[1;31m---------------------------------------------------------------------------\u001B[0m",
      "\u001B[1;31mTypeError\u001B[0m                                 Traceback (most recent call last)",
      "Cell \u001B[1;32mIn[2], line 2\u001B[0m\n\u001B[0;32m      1\u001B[0m lanche \u001B[38;5;241m=\u001B[39m (\u001B[38;5;124m'\u001B[39m\u001B[38;5;124mHamburguer\u001B[39m\u001B[38;5;124m'\u001B[39m, \u001B[38;5;124m'\u001B[39m\u001B[38;5;124mSuco\u001B[39m\u001B[38;5;124m'\u001B[39m,\u001B[38;5;124m'\u001B[39m\u001B[38;5;124mPizza\u001B[39m\u001B[38;5;124m'\u001B[39m, \u001B[38;5;124m'\u001B[39m\u001B[38;5;124mPudim\u001B[39m\u001B[38;5;124m'\u001B[39m)\n\u001B[1;32m----> 2\u001B[0m \u001B[43mlanche\u001B[49m\u001B[43m[\u001B[49m\u001B[38;5;241;43m1\u001B[39;49m\u001B[43m]\u001B[49m \u001B[38;5;241m=\u001B[39m \u001B[38;5;124m'\u001B[39m\u001B[38;5;124mRefrigerante\u001B[39m\u001B[38;5;124m'\u001B[39m\n\u001B[0;32m      3\u001B[0m \u001B[38;5;28mprint\u001B[39m(lanche[\u001B[38;5;241m1\u001B[39m])\n",
      "\u001B[1;31mTypeError\u001B[0m: 'tuple' object does not support item assignment"
     ]
    }
   ],
   "source": [
    "lanche = ('Hamburguer', 'Suco','Pizza', 'Pudim')\n",
    "lanche[1] = 'Refrigerante'\n",
    "print(lanche[1])\n",
    "\n",
    "#Veja acima, como o programa retorna uma mensagem de erro, pois a tupla não aceita a mudança de itens já atribuídos"
   ],
   "metadata": {
    "collapsed": false
   }
  },
  {
   "cell_type": "markdown",
   "source": [
    "Agora:"
   ],
   "metadata": {
    "collapsed": false
   }
  },
  {
   "cell_type": "code",
   "execution_count": 3,
   "outputs": [
    {
     "name": "stdout",
     "output_type": "stream",
     "text": [
      "Eu vou comer Hamburguer.\n",
      "Eu vou comer Suco.\n",
      "Eu vou comer Pizza.\n",
      "Eu vou comer Pudim.\n",
      "Comi para caramba!\n"
     ]
    }
   ],
   "source": [
    "lanche = ('Hamburguer', 'Suco','Pizza', 'Pudim')\n",
    "for comida in lanche:\n",
    "    print(f'Eu vou comer {comida}.')\n",
    "print('Comi para caramba!')"
   ],
   "metadata": {
    "collapsed": false
   }
  },
  {
   "cell_type": "code",
   "execution_count": 7,
   "outputs": [
    {
     "name": "stdout",
     "output_type": "stream",
     "text": [
      "Forma 1:\n",
      "Eu vou comer Hamburguer na posicao 0\n",
      "Eu vou comer Suco na posicao 1\n",
      "Eu vou comer Pizza na posicao 2\n",
      "Eu vou comer Pudim na posicao 3\n",
      "Forma 2:\n",
      "Eu vou comer Hamburguer.\n",
      "Eu vou comer Suco.\n",
      "Eu vou comer Pizza.\n",
      "Eu vou comer Pudim.\n",
      "Forma 3:\n",
      "Eu vou comer Hamburguer, na posição 0.\n",
      "Eu vou comer Suco, na posição 1.\n",
      "Eu vou comer Pizza, na posição 2.\n",
      "Eu vou comer Pudim, na posição 3.\n",
      "Comi para caramba!\n"
     ]
    }
   ],
   "source": [
    "lanche = ('Hamburguer', 'Suco','Pizza', 'Pudim')\n",
    "print('Forma 1:')\n",
    "for cont in range (0, len(lanche)):\n",
    "    print(f'Eu vou comer {lanche[cont]} na posicao {cont}')\n",
    "\n",
    "print('Forma 2:')\n",
    "for comida in lanche:\n",
    "    print(f'Eu vou comer {comida}.')\n",
    "\n",
    "print('Forma 3:')\n",
    "for pos, comida in enumerate(lanche):\n",
    "    print(f'Eu vou comer {comida}, na posição {pos}.')\n",
    "print('Comi para caramba!')"
   ],
   "metadata": {
    "collapsed": false
   }
  },
  {
   "cell_type": "markdown",
   "source": [
    "## Método Sorted\n",
    "* por esse método, podemos colocar os itens da tupla em ordem\n",
    "* não há alteração da tupla, mas apenas da sua ordem"
   ],
   "metadata": {
    "collapsed": false
   }
  },
  {
   "cell_type": "code",
   "execution_count": 12,
   "outputs": [
    {
     "name": "stdout",
     "output_type": "stream",
     "text": [
      "['Coca', 'Hamburguer', 'Lasanha', 'Suco']\n",
      "[2, 10, 15, 41, 133]\n"
     ]
    }
   ],
   "source": [
    "lanche = ('Hamburguer', 'Suco','Lasanha', 'Coca')\n",
    "print(sorted(lanche))\n",
    "\n",
    "num = (10,2,133,41,15)\n",
    "print(sorted(num))"
   ],
   "metadata": {
    "collapsed": false
   }
  },
  {
   "cell_type": "markdown",
   "source": [
    "## Juntando Tuplas\n",
    "* para juntar tuplas usamos assim:"
   ],
   "metadata": {
    "collapsed": false
   }
  },
  {
   "cell_type": "code",
   "execution_count": 17,
   "outputs": [
    {
     "name": "stdout",
     "output_type": "stream",
     "text": [
      "(10, 2, 9, 41, 15, 2, 34, 9, 100)\n",
      "9\n",
      "2\n"
     ]
    }
   ],
   "source": [
    "a = (10,2,9,41,15)\n",
    "b = (2,34,9,100)\n",
    "c = a+b\n",
    "print(c)\n",
    "print(len(c))\n",
    "print(c.count(9))"
   ],
   "metadata": {
    "collapsed": false
   }
  },
  {
   "cell_type": "markdown",
   "source": [
    "## Propriedade INDEX\n",
    "* mostra a posição que o item está na tupla"
   ],
   "metadata": {
    "collapsed": false
   }
  },
  {
   "cell_type": "code",
   "execution_count": 32,
   "outputs": [
    {
     "name": "stdout",
     "output_type": "stream",
     "text": [
      "[2, 9, 9, 10, 15, 22, 34, 41, 100]\n",
      "0\n"
     ]
    }
   ],
   "source": [
    "a = (10,2,9,41,15)\n",
    "b = (22,34,9,100)\n",
    "c = a+b\n",
    "print(sorted(c))\n",
    "print((c.index(10)))"
   ],
   "metadata": {
    "collapsed": false
   }
  },
  {
   "cell_type": "markdown",
   "source": [
    "# LISTAS\n",
    "* Notação: [ ]\n",
    "* São MUTÁVEIS\n",
    "* Estrutura semelhante a de uma tupla, mas pode ser alterada\n",
    "\n",
    "## Adicionar elementos (append / insert)\n",
    "   * append - inclui ao final da lista\n",
    "   * insert - inclui no começo da lista\n",
    "\n",
    "## Apagar (del / .pop)\n",
    "   * .pop - para eliminar o último elemento ou do indice []\n",
    "   * del\n",
    "   * .remove - para eliminar pelo conteúdo da lista"
   ],
   "metadata": {
    "collapsed": false
   }
  },
  {
   "cell_type": "code",
   "execution_count": 43,
   "outputs": [
    {
     "name": "stdout",
     "output_type": "stream",
     "text": [
      "[222, 1, 2, 34, 233]\n",
      "[222, 1, 2, 233]\n",
      "[222, 1, 233]\n",
      "[222, 1]\n"
     ]
    },
    {
     "ename": "ValueError",
     "evalue": "list.remove(x): x not in list",
     "output_type": "error",
     "traceback": [
      "\u001B[1;31m---------------------------------------------------------------------------\u001B[0m",
      "\u001B[1;31mValueError\u001B[0m                                Traceback (most recent call last)",
      "Cell \u001B[1;32mIn[43], line 15\u001B[0m\n\u001B[0;32m     12\u001B[0m a\u001B[38;5;241m.\u001B[39mremove(\u001B[38;5;241m233\u001B[39m)\n\u001B[0;32m     13\u001B[0m \u001B[38;5;28mprint\u001B[39m(a)\n\u001B[1;32m---> 15\u001B[0m \u001B[43ma\u001B[49m\u001B[38;5;241;43m.\u001B[39;49m\u001B[43mremove\u001B[49m\u001B[43m(\u001B[49m\u001B[38;5;241;43m4\u001B[39;49m\u001B[43m)\u001B[49m\n\u001B[0;32m     16\u001B[0m \u001B[38;5;28mprint\u001B[39m(a)\n",
      "\u001B[1;31mValueError\u001B[0m: list.remove(x): x not in list"
     ]
    }
   ],
   "source": [
    "a = [1,2,34]\n",
    "a.append(233)\n",
    "a.insert(0,222)\n",
    "print(a)\n",
    "\n",
    "del a[3]\n",
    "print(a)\n",
    "\n",
    "a.pop(2)\n",
    "print(a)\n",
    "\n",
    "a.remove(233)\n",
    "print(a)\n",
    "\n",
    "a.remove(4)\n",
    "print(a)"
   ],
   "metadata": {
    "collapsed": false
   }
  },
  {
   "cell_type": "markdown",
   "source": [
    "## Declarando a partir de um Range / Sort\n",
    "   * Notação = list(range())\n",
    "   * Ele cria na ordem\n",
    "\n",
    "   * No método SORT, ele irá colocar a lista em ordem"
   ],
   "metadata": {
    "collapsed": false
   }
  },
  {
   "cell_type": "code",
   "execution_count": 51,
   "outputs": [
    {
     "name": "stdout",
     "output_type": "stream",
     "text": [
      "[4, 5, 6, 7, 8, 9, 10]\n",
      "[1, 2, 4, 5, 6, 8, 80]\n",
      "[80, 8, 6, 5, 4, 2, 1]\n"
     ]
    },
    {
     "data": {
      "text/plain": "7"
     },
     "execution_count": 51,
     "metadata": {},
     "output_type": "execute_result"
    }
   ],
   "source": [
    "valor = list(range(4,11))\n",
    "print(valor)\n",
    "\n",
    "valores = [8,2,6,80,5,4,1]\n",
    "\n",
    "valores.sort()\n",
    "print(valores)\n",
    "valores.sort(reverse=True) #na ordem reversa\n",
    "print(valores)\n",
    "len(valores)"
   ],
   "metadata": {
    "collapsed": false
   }
  },
  {
   "cell_type": "code",
   "execution_count": 52,
   "outputs": [
    {
     "name": "stdout",
     "output_type": "stream",
     "text": [
      "Na posição 0 encontrei o valor 4!\n",
      "Na posição 1 encontrei o valor 12!\n",
      "Na posição 2 encontrei o valor 22!\n",
      "Cheguei ao final da lista.\n"
     ]
    }
   ],
   "source": [
    "valores = []\n",
    "valores.append(4)\n",
    "valores.append(12)\n",
    "valores.append(22)\n",
    "\n",
    "for c, v in enumerate(valores):\n",
    "    print(f'Na posição {c} encontrei o valor {v}!')\n",
    "print('Cheguei ao final da lista.')"
   ],
   "metadata": {
    "collapsed": false
   }
  },
  {
   "cell_type": "markdown",
   "source": [
    "## Ligação entre listas\n",
    "   * a partir do momento que igualo listas, o python cria uma ligação entre elas\n",
    "   * por isso que, mesmo só mexendo na lista B, as listas A e B continuam iguais\n",
    "\n",
    "Veja:"
   ],
   "metadata": {
    "collapsed": false
   }
  },
  {
   "cell_type": "code",
   "execution_count": 53,
   "outputs": [
    {
     "name": "stdout",
     "output_type": "stream",
     "text": [
      "A lista A: [2, 3, 8, 7]\n",
      "A lista B: [2, 3, 8, 7]\n"
     ]
    }
   ],
   "source": [
    "a = [2,3,4,7]\n",
    "b = a\n",
    "b[2] = 8\n",
    "print(f'A lista A: {a}')\n",
    "print(f'A lista B: {b}')"
   ],
   "metadata": {
    "collapsed": false
   }
  },
  {
   "cell_type": "markdown",
   "source": [
    "## Copiar Listas\n",
    "   * A forma para COPIAR uma lista devemos fazer fatiamento"
   ],
   "metadata": {
    "collapsed": false
   }
  },
  {
   "cell_type": "code",
   "execution_count": 54,
   "outputs": [
    {
     "name": "stdout",
     "output_type": "stream",
     "text": [
      "A lista A: [2, 3, 4, 7]\n",
      "A lista B: [2, 3, 8, 7]\n"
     ]
    }
   ],
   "source": [
    "a = [2,3,4,7]\n",
    "b = a[:]\n",
    "b[2] = 8\n",
    "print(f'A lista A: {a}')\n",
    "print(f'A lista B: {b}')"
   ],
   "metadata": {
    "collapsed": false
   }
  }
 ]
}
